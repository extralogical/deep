{
 "cells": [
  {
   "cell_type": "markdown",
   "metadata": {
    "collapsed": true
   },
   "source": [
    "# Language Translation\n",
    "In this project, you’re going to take a peek into the realm of neural network machine translation.  You’ll be training a sequence to sequence model on a dataset of English and French sentences that can translate new sentences from English to French.\n",
    "## Get the Data\n",
    "Since translating the whole language of English to French will take lots of time to train, we have provided you with a small portion of the English corpus."
   ]
  },
  {
   "cell_type": "code",
   "execution_count": 1,
   "metadata": {
    "collapsed": true
   },
   "outputs": [],
   "source": [
    "\"\"\"\n",
    "DON'T MODIFY ANYTHING IN THIS CELL\n",
    "\"\"\"\n",
    "import helper\n",
    "import problem_unittests as tests\n",
    "\n",
    "source_path = 'data/small_vocab_en'\n",
    "target_path = 'data/small_vocab_fr'\n",
    "source_text = helper.load_data(source_path)\n",
    "target_text = helper.load_data(target_path)"
   ]
  },
  {
   "cell_type": "markdown",
   "metadata": {},
   "source": [
    "## Explore the Data\n",
    "Play around with view_sentence_range to view different parts of the data."
   ]
  },
  {
   "cell_type": "code",
   "execution_count": 2,
   "metadata": {},
   "outputs": [
    {
     "name": "stdout",
     "output_type": "stream",
     "text": [
      "Dataset Stats\n",
      "Roughly the number of unique words: 227\n",
      "Number of sentences: 137861\n",
      "Average number of words in a sentence: 13.225277634719028\n",
      "\n",
      "English sentences 0 to 10:\n",
      "new jersey is sometimes quiet during autumn , and it is snowy in april .\n",
      "the united states is usually chilly during july , and it is usually freezing in november .\n",
      "california is usually quiet during march , and it is usually hot in june .\n",
      "the united states is sometimes mild during june , and it is cold in september .\n",
      "your least liked fruit is the grape , but my least liked is the apple .\n",
      "his favorite fruit is the orange , but my favorite is the grape .\n",
      "paris is relaxing during december , but it is usually chilly in july .\n",
      "new jersey is busy during spring , and it is never hot in march .\n",
      "our least liked fruit is the lemon , but my least liked is the grape .\n",
      "the united states is sometimes busy during january , and it is sometimes warm in november .\n",
      "\n",
      "French sentences 0 to 10:\n",
      "new jersey est parfois calme pendant l' automne , et il est neigeux en avril .\n",
      "les états-unis est généralement froid en juillet , et il gèle habituellement en novembre .\n",
      "california est généralement calme en mars , et il est généralement chaud en juin .\n",
      "les états-unis est parfois légère en juin , et il fait froid en septembre .\n",
      "votre moins aimé fruit est le raisin , mais mon moins aimé est la pomme .\n",
      "son fruit préféré est l'orange , mais mon préféré est le raisin .\n",
      "paris est relaxant en décembre , mais il est généralement froid en juillet .\n",
      "new jersey est occupé au printemps , et il est jamais chaude en mars .\n",
      "notre fruit est moins aimé le citron , mais mon moins aimé est le raisin .\n",
      "les états-unis est parfois occupé en janvier , et il est parfois chaud en novembre .\n"
     ]
    }
   ],
   "source": [
    "view_sentence_range = (0, 10)\n",
    "\n",
    "\"\"\"\n",
    "DON'T MODIFY ANYTHING IN THIS CELL\n",
    "\"\"\"\n",
    "import numpy as np\n",
    "\n",
    "print('Dataset Stats')\n",
    "print('Roughly the number of unique words: {}'.format(len({word: None for word in source_text.split()})))\n",
    "#print({word: None for word in source_text.split()})\n",
    "\n",
    "sentences = source_text.split('\\n')\n",
    "word_counts = [len(sentence.split()) for sentence in sentences]\n",
    "print('Number of sentences: {}'.format(len(sentences)))\n",
    "print('Average number of words in a sentence: {}'.format(np.average(word_counts)))\n",
    "\n",
    "print()\n",
    "print('English sentences {} to {}:'.format(*view_sentence_range))\n",
    "print('\\n'.join(source_text.split('\\n')[view_sentence_range[0]:view_sentence_range[1]]))\n",
    "print()\n",
    "print('French sentences {} to {}:'.format(*view_sentence_range))\n",
    "print('\\n'.join(target_text.split('\\n')[view_sentence_range[0]:view_sentence_range[1]]))"
   ]
  },
  {
   "cell_type": "markdown",
   "metadata": {},
   "source": [
    "## Implement Preprocessing Function\n",
    "### Text to Word Ids\n",
    "As you did with other RNNs, you must turn the text into a number so the computer can understand it. In the function `text_to_ids()`, you'll turn `source_text` and `target_text` from words to ids.  However, you need to add the `<EOS>` word id at the end of `target_text`.  This will help the neural network predict when the sentence should end.\n",
    "\n",
    "You can get the `<EOS>` word id by doing:\n",
    "```python\n",
    "target_vocab_to_int['<EOS>']\n",
    "```\n",
    "You can get other word ids using `source_vocab_to_int` and `target_vocab_to_int`."
   ]
  },
  {
   "cell_type": "code",
   "execution_count": 3,
   "metadata": {},
   "outputs": [
    {
     "name": "stdout",
     "output_type": "stream",
     "text": [
      "Tests Passed\n"
     ]
    }
   ],
   "source": [
    "def text_to_ids(source_text, target_text, source_vocab_to_int, target_vocab_to_int):\n",
    "    \"\"\"\n",
    "    Convert source and target text to proper word ids\n",
    "    :param source_text: String that contains all the source text.\n",
    "    :param target_text: String that contains all the target text.\n",
    "    :param source_vocab_to_int: Dictionary to go from the source words to an id\n",
    "    :param target_vocab_to_int: Dictionary to go from the target words to an id\n",
    "    :return: A tuple of lists (source_id_text, target_id_text)\n",
    "    \"\"\"\n",
    "    # TODO: Implement Function\n",
    "    source_id_text = [[source_vocab_to_int[word] for word in sentence.split()] for sentence in source_text.split('\\n')]\n",
    "    target_id_text = [[target_vocab_to_int[word] for word in sentence.split()] + [target_vocab_to_int['<EOS>']] for sentence in target_text.split('\\n')]\n",
    "    return (source_id_text, target_id_text)\n",
    "\n",
    "\"\"\"\n",
    "DON'T MODIFY ANYTHING IN THIS CELL THAT IS BELOW THIS LINE\n",
    "\"\"\"\n",
    "tests.test_text_to_ids(text_to_ids)"
   ]
  },
  {
   "cell_type": "markdown",
   "metadata": {},
   "source": [
    "### Preprocess all the data and save it\n",
    "Running the code cell below will preprocess all the data and save it to file."
   ]
  },
  {
   "cell_type": "code",
   "execution_count": 4,
   "metadata": {
    "collapsed": true
   },
   "outputs": [],
   "source": [
    "\"\"\"\n",
    "DON'T MODIFY ANYTHING IN THIS CELL\n",
    "\"\"\"\n",
    "helper.preprocess_and_save_data(source_path, target_path, text_to_ids)"
   ]
  },
  {
   "cell_type": "markdown",
   "metadata": {},
   "source": [
    "# Check Point\n",
    "This is your first checkpoint. If you ever decide to come back to this notebook or have to restart the notebook, you can start from here. The preprocessed data has been saved to disk."
   ]
  },
  {
   "cell_type": "code",
   "execution_count": 5,
   "metadata": {
    "collapsed": true
   },
   "outputs": [],
   "source": [
    "\"\"\"\n",
    "DON'T MODIFY ANYTHING IN THIS CELL\n",
    "\"\"\"\n",
    "import numpy as np\n",
    "import helper\n",
    "import problem_unittests as tests\n",
    "\n",
    "(source_int_text, target_int_text), (source_vocab_to_int, target_vocab_to_int), _ = helper.load_preprocess()"
   ]
  },
  {
   "cell_type": "markdown",
   "metadata": {},
   "source": [
    "### Check the Version of TensorFlow and Access to GPU\n",
    "This will check to make sure you have the correct version of TensorFlow and access to a GPU"
   ]
  },
  {
   "cell_type": "code",
   "execution_count": 6,
   "metadata": {},
   "outputs": [
    {
     "name": "stdout",
     "output_type": "stream",
     "text": [
      "TensorFlow Version: 1.1.0\n",
      "Default GPU Device: /gpu:0\n"
     ]
    }
   ],
   "source": [
    "\"\"\"\n",
    "DON'T MODIFY ANYTHING IN THIS CELL\n",
    "\"\"\"\n",
    "from distutils.version import LooseVersion\n",
    "import warnings\n",
    "import tensorflow as tf\n",
    "from tensorflow.python.layers.core import Dense\n",
    "\n",
    "# Check TensorFlow Version\n",
    "assert LooseVersion(tf.__version__) >= LooseVersion('1.1'), 'Please use TensorFlow version 1.1 or newer'\n",
    "print('TensorFlow Version: {}'.format(tf.__version__))\n",
    "\n",
    "# Check for a GPU\n",
    "if not tf.test.gpu_device_name():\n",
    "    warnings.warn('No GPU found. Please use a GPU to train your neural network.')\n",
    "else:\n",
    "    print('Default GPU Device: {}'.format(tf.test.gpu_device_name()))"
   ]
  },
  {
   "cell_type": "markdown",
   "metadata": {},
   "source": [
    "## Build the Neural Network\n",
    "You'll build the components necessary to build a Sequence-to-Sequence model by implementing the following functions below:\n",
    "- `model_inputs`\n",
    "- `process_decoder_input`\n",
    "- `encoding_layer`\n",
    "- `decoding_layer_train`\n",
    "- `decoding_layer_infer`\n",
    "- `decoding_layer`\n",
    "- `seq2seq_model`\n",
    "\n",
    "### Input\n",
    "Implement the `model_inputs()` function to create TF Placeholders for the Neural Network. It should create the following placeholders:\n",
    "\n",
    "- Input text placeholder named \"input\" using the TF Placeholder name parameter with rank 2.\n",
    "- Targets placeholder with rank 2.\n",
    "- Learning rate placeholder with rank 0.\n",
    "- Keep probability placeholder named \"keep_prob\" using the TF Placeholder name parameter with rank 0.\n",
    "- Target sequence length placeholder named \"target_sequence_length\" with rank 1\n",
    "- Max target sequence length tensor named \"max_target_len\" getting its value from applying tf.reduce_max on the target_sequence_length placeholder. Rank 0.\n",
    "- Source sequence length placeholder named \"source_sequence_length\" with rank 1\n",
    "\n",
    "Return the placeholders in the following the tuple (input, targets, learning rate, keep probability, target sequence length, max target sequence length, source sequence length)"
   ]
  },
  {
   "cell_type": "code",
   "execution_count": 7,
   "metadata": {},
   "outputs": [
    {
     "name": "stdout",
     "output_type": "stream",
     "text": [
      "Tests Passed\n"
     ]
    }
   ],
   "source": [
    "def model_inputs():\n",
    "    \"\"\"\n",
    "    Create TF Placeholders for input, targets, learning rate, and lengths of source and target sequences.\n",
    "    :return: Tuple (input, targets, learning rate, keep probability, target sequence length,\n",
    "    max target sequence length, source sequence length)\n",
    "    \"\"\"\n",
    "    # TODO: Implement Function\n",
    "    inputs = tf.placeholder(tf.int32, [None, None], name='input')\n",
    "    targets = tf.placeholder(tf.int32, [None, None], name='targets')\n",
    "    lr = tf.placeholder(tf.float32, name='learning_rate')\n",
    "    keep_prob = tf.placeholder(tf.float32, name='keep_prob')   \n",
    "    \n",
    "    target_sequence_length = tf.placeholder(tf.int32, (None,), name='target_sequence_length')\n",
    "    max_target_sequence_length = tf.reduce_max(target_sequence_length, name='max_target_len')\n",
    "    source_sequence_length = tf.placeholder(tf.int32, (None,), name='source_sequence_length')\n",
    "    \n",
    "    return inputs, targets, lr, keep_prob, target_sequence_length, max_target_sequence_length, source_sequence_length\n",
    "\n",
    "\n",
    "\"\"\"\n",
    "DON'T MODIFY ANYTHING IN THIS CELL THAT IS BELOW THIS LINE\n",
    "\"\"\"\n",
    "tests.test_model_inputs(model_inputs)"
   ]
  },
  {
   "cell_type": "markdown",
   "metadata": {},
   "source": [
    "### Process Decoder Input\n",
    "Implement `process_decoder_input` by removing the last word id from each batch in `target_data` and concat the GO ID to the begining of each batch."
   ]
  },
  {
   "cell_type": "code",
   "execution_count": 8,
   "metadata": {},
   "outputs": [
    {
     "name": "stdout",
     "output_type": "stream",
     "text": [
      "Tests Passed\n"
     ]
    }
   ],
   "source": [
    "def process_decoder_input(target_data, target_vocab_to_int, batch_size):\n",
    "    \"\"\"\n",
    "    Preprocess target data for encoding\n",
    "    :param target_data: Target Placehoder\n",
    "    :param target_vocab_to_int: Dictionary to go from the target words to an id\n",
    "    :param batch_size: Batch Size\n",
    "    :return: Preprocessed target data\n",
    "    \"\"\"\n",
    "    # TODO: Implement Function\n",
    "    '''Remove the last word id from each batch and concat the <GO> to the begining of each batch'''\n",
    "    ending = tf.strided_slice(target_data, [0, 0], [batch_size, -1], [1, 1])\n",
    "    dec_input = tf.concat([tf.fill([batch_size, 1], target_vocab_to_int['<GO>']), ending], 1)\n",
    "\n",
    "    return dec_input\n",
    "\n",
    "\"\"\"\n",
    "DON'T MODIFY ANYTHING IN THIS CELL THAT IS BELOW THIS LINE\n",
    "\"\"\"\n",
    "tests.test_process_encoding_input(process_decoder_input)"
   ]
  },
  {
   "cell_type": "markdown",
   "metadata": {},
   "source": [
    "### Encoding\n",
    "Implement `encoding_layer()` to create a Encoder RNN layer:\n",
    " * Embed the encoder input using [`tf.contrib.layers.embed_sequence`](https://www.tensorflow.org/api_docs/python/tf/contrib/layers/embed_sequence)\n",
    " * Construct a [stacked](https://github.com/tensorflow/tensorflow/blob/6947f65a374ebf29e74bb71e36fd82760056d82c/tensorflow/docs_src/tutorials/recurrent.md#stacking-multiple-lstms) [`tf.contrib.rnn.LSTMCell`](https://www.tensorflow.org/api_docs/python/tf/contrib/rnn/LSTMCell) wrapped in a [`tf.contrib.rnn.DropoutWrapper`](https://www.tensorflow.org/api_docs/python/tf/contrib/rnn/DropoutWrapper)\n",
    " * Pass cell and embedded input to [`tf.nn.dynamic_rnn()`](https://www.tensorflow.org/api_docs/python/tf/nn/dynamic_rnn)"
   ]
  },
  {
   "cell_type": "code",
   "execution_count": 9,
   "metadata": {
    "scrolled": false
   },
   "outputs": [
    {
     "name": "stdout",
     "output_type": "stream",
     "text": [
      "Tests Passed\n"
     ]
    }
   ],
   "source": [
    "from imp import reload\n",
    "reload(tests)\n",
    "\n",
    "def encoding_layer(rnn_inputs, rnn_size, num_layers, keep_prob, \n",
    "                   source_sequence_length, source_vocab_size, \n",
    "                   encoding_embedding_size):\n",
    "    \"\"\"\n",
    "    Create encoding layer\n",
    "    :param rnn_inputs: Inputs for the RNN\n",
    "    :param rnn_size: RNN Size\n",
    "    :param num_layers: Number of layers\n",
    "    :param keep_prob: Dropout keep probability\n",
    "    :param source_sequence_length: a list of the lengths of each sequence in the batch\n",
    "    :param source_vocab_size: vocabulary size of source data\n",
    "    :param encoding_embedding_size: embedding size of source data\n",
    "    :return: tuple (RNN output, RNN state)\n",
    "    \"\"\"\n",
    "    # TODO: Implement Function\n",
    "    # Encoder embedding\n",
    "    enc_embed_input = tf.contrib.layers.embed_sequence(rnn_inputs, source_vocab_size, \n",
    "                                                       encoding_embedding_size)\n",
    "\n",
    "    # LSTM cell\n",
    "    def make_cell(rnn_size):\n",
    "        enc_cell = tf.contrib.rnn.LSTMCell(rnn_size,\n",
    "                                           initializer=tf.random_uniform_initializer(-0.1, 0.1, seed=2))\n",
    "        enc_cell = tf.contrib.rnn.DropoutWrapper(enc_cell, keep_prob)\n",
    "        return enc_cell\n",
    "    \n",
    "    #Cell Stack\n",
    "    enc_cell = tf.contrib.rnn.MultiRNNCell([make_cell(rnn_size) for _ in range(num_layers)])\n",
    "    \n",
    "    enc_output, enc_state = tf.nn.dynamic_rnn(enc_cell, enc_embed_input, sequence_length=source_sequence_length, dtype=tf.float32)\n",
    "    \n",
    "    return enc_output, enc_state\n",
    "\n",
    "\"\"\"\n",
    "DON'T MODIFY ANYTHING IN THIS CELL THAT IS BELOW THIS LINE\n",
    "\"\"\"\n",
    "tests.test_encoding_layer(encoding_layer)"
   ]
  },
  {
   "cell_type": "markdown",
   "metadata": {},
   "source": [
    "### Decoding - Training\n",
    "Create a training decoding layer:\n",
    "* Create a [`tf.contrib.seq2seq.TrainingHelper`](https://www.tensorflow.org/api_docs/python/tf/contrib/seq2seq/TrainingHelper) \n",
    "* Create a [`tf.contrib.seq2seq.BasicDecoder`](https://www.tensorflow.org/api_docs/python/tf/contrib/seq2seq/BasicDecoder)\n",
    "* Obtain the decoder outputs from [`tf.contrib.seq2seq.dynamic_decode`](https://www.tensorflow.org/api_docs/python/tf/contrib/seq2seq/dynamic_decode)"
   ]
  },
  {
   "cell_type": "code",
   "execution_count": 10,
   "metadata": {},
   "outputs": [
    {
     "name": "stdout",
     "output_type": "stream",
     "text": [
      "Tests Passed\n"
     ]
    }
   ],
   "source": [
    "\n",
    "def decoding_layer_train(encoder_state, dec_cell, dec_embed_input, \n",
    "                         target_sequence_length, max_summary_length, \n",
    "                         output_layer, keep_prob):\n",
    "    \"\"\"\n",
    "    Create a decoding layer for training\n",
    "    :param encoder_state: Encoder State\n",
    "    :param dec_cell: Decoder RNN Cell\n",
    "    :param dec_embed_input: Decoder embedded input\n",
    "    :param target_sequence_length: The lengths of each sequence in the target batch\n",
    "    :param max_summary_length: The length of the longest sequence in the batch\n",
    "    :param output_layer: Function to apply the output layer\n",
    "    :param keep_prob: Dropout keep probability\n",
    "    :return: BasicDecoderOutput containing training logits and sample_id\n",
    "    \"\"\"\n",
    "    # TODO: Implement Function\n",
    "    with tf.variable_scope(\"decode\"):\n",
    "        \n",
    "        # Helper for the training process. Used by BasicDecoder to read inputs.\n",
    "        training_helper = tf.contrib.seq2seq.TrainingHelper(inputs=dec_embed_input,\n",
    "                                                            sequence_length=target_sequence_length,\n",
    "                                                            time_major=False)\n",
    "        \n",
    "        \n",
    "        # Basic decoder\n",
    "        training_decoder = tf.contrib.seq2seq.BasicDecoder(dec_cell,\n",
    "                                                           training_helper,\n",
    "                                                           encoder_state,\n",
    "                                                           output_layer) \n",
    "        \n",
    "        # Perform dynamic decoding using the decoder\n",
    "        training_decoder_output = tf.contrib.seq2seq.dynamic_decode(training_decoder,\n",
    "                                                                       impute_finished=True,\n",
    "                                                                       maximum_iterations=max_summary_length)[0]\n",
    "    \n",
    "    return training_decoder_output\n",
    "\n",
    "\n",
    "\n",
    "\"\"\"\n",
    "DON'T MODIFY ANYTHING IN THIS CELL THAT IS BELOW THIS LINE\n",
    "\"\"\"\n",
    "tests.test_decoding_layer_train(decoding_layer_train)"
   ]
  },
  {
   "cell_type": "markdown",
   "metadata": {},
   "source": [
    "### Decoding - Inference\n",
    "Create inference decoder:\n",
    "* Create a [`tf.contrib.seq2seq.GreedyEmbeddingHelper`](https://www.tensorflow.org/api_docs/python/tf/contrib/seq2seq/GreedyEmbeddingHelper)\n",
    "* Create a [`tf.contrib.seq2seq.BasicDecoder`](https://www.tensorflow.org/api_docs/python/tf/contrib/seq2seq/BasicDecoder)\n",
    "* Obtain the decoder outputs from [`tf.contrib.seq2seq.dynamic_decode`](https://www.tensorflow.org/api_docs/python/tf/contrib/seq2seq/dynamic_decode)"
   ]
  },
  {
   "cell_type": "code",
   "execution_count": 11,
   "metadata": {
    "scrolled": true
   },
   "outputs": [
    {
     "name": "stdout",
     "output_type": "stream",
     "text": [
      "Tests Passed\n"
     ]
    }
   ],
   "source": [
    "def decoding_layer_infer(encoder_state, dec_cell, dec_embeddings, start_of_sequence_id,\n",
    "                         end_of_sequence_id, max_target_sequence_length,\n",
    "                         vocab_size, output_layer, batch_size, keep_prob):\n",
    "    \"\"\"\n",
    "    Create a decoding layer for inference\n",
    "    :param encoder_state: Encoder state\n",
    "    :param dec_cell: Decoder RNN Cell\n",
    "    :param dec_embeddings: Decoder embeddings\n",
    "    :param start_of_sequence_id: GO ID\n",
    "    :param end_of_sequence_id: EOS Id\n",
    "    :param max_target_sequence_length: Maximum length of target sequences\n",
    "    :param vocab_size: Size of decoder/target vocabulary\n",
    "    :param decoding_scope: TenorFlow Variable Scope for decoding\n",
    "    :param output_layer: Function to apply the output layer\n",
    "    :param batch_size: Batch size\n",
    "    :param keep_prob: Dropout keep probability\n",
    "    :return: BasicDecoderOutput containing inference logits and sample_id\n",
    "    \"\"\"\n",
    "    # TODO: Implement Function\n",
    "    # 5. Inference Decoder\n",
    "    # Reuses the same parameters trained by the training process\n",
    "    with tf.variable_scope(\"decode\"):\n",
    "        start_tokens = tf.tile(tf.constant([start_of_sequence_id], dtype=tf.int32), [batch_size], name='start_tokens')\n",
    "\n",
    "        # Helper for the inference process.\n",
    "        inference_helper = tf.contrib.seq2seq.GreedyEmbeddingHelper(dec_embeddings,\n",
    "                                                                start_tokens,\n",
    "                                                                end_of_sequence_id)\n",
    "\n",
    "        # Basic decoder\n",
    "        inference_decoder = tf.contrib.seq2seq.BasicDecoder(dec_cell,\n",
    "                                                        inference_helper,\n",
    "                                                        encoder_state,\n",
    "                                                        output_layer)\n",
    "        \n",
    "        # Perform dynamic decoding using the decoder\n",
    "        inference_decoder_output = tf.contrib.seq2seq.dynamic_decode(inference_decoder,\n",
    "                                                            impute_finished=True,\n",
    "                                                            maximum_iterations=max_target_sequence_length)[0]\n",
    "         \n",
    "\n",
    "    \n",
    "    return inference_decoder_output\n",
    "\n",
    "\n",
    "\n",
    "\"\"\"\n",
    "DON'T MODIFY ANYTHING IN THIS CELL THAT IS BELOW THIS LINE\n",
    "\"\"\"\n",
    "tests.test_decoding_layer_infer(decoding_layer_infer)"
   ]
  },
  {
   "cell_type": "markdown",
   "metadata": {},
   "source": [
    "### Build the Decoding Layer\n",
    "Implement `decoding_layer()` to create a Decoder RNN layer.\n",
    "\n",
    "* Embed the target sequences\n",
    "* Construct the decoder LSTM cell (just like you constructed the encoder cell above)\n",
    "* Create an output layer to map the outputs of the decoder to the elements of our vocabulary\n",
    "* Use the your `decoding_layer_train(encoder_state, dec_cell, dec_embed_input, target_sequence_length, max_target_sequence_length, output_layer, keep_prob)` function to get the training logits.\n",
    "* Use your `decoding_layer_infer(encoder_state, dec_cell, dec_embeddings, start_of_sequence_id, end_of_sequence_id, max_target_sequence_length, vocab_size, output_layer, batch_size, keep_prob)` function to get the inference logits.\n",
    "\n",
    "Note: You'll need to use [tf.variable_scope](https://www.tensorflow.org/api_docs/python/tf/variable_scope) to share variables between training and inference."
   ]
  },
  {
   "cell_type": "code",
   "execution_count": 12,
   "metadata": {},
   "outputs": [
    {
     "name": "stdout",
     "output_type": "stream",
     "text": [
      "Tests Passed\n"
     ]
    }
   ],
   "source": [
    "def decoding_layer(dec_input, encoder_state,\n",
    "                   target_sequence_length, max_target_sequence_length,\n",
    "                   rnn_size,\n",
    "                   num_layers, target_vocab_to_int, target_vocab_size,\n",
    "                   batch_size, keep_prob, decoding_embedding_size):\n",
    "    \"\"\"\n",
    "    Create decoding layer\n",
    "    :param dec_input: Decoder input\n",
    "    :param encoder_state: Encoder state\n",
    "    :param target_sequence_length: The lengths of each sequence in the target batch\n",
    "    :param max_target_sequence_length: Maximum length of target sequences\n",
    "    :param rnn_size: RNN Size\n",
    "    :param num_layers: Number of layers\n",
    "    :param target_vocab_to_int: Dictionary to go from the target words to an id\n",
    "    :param target_vocab_size: Size of target vocabulary\n",
    "    :param batch_size: The size of the batch\n",
    "    :param keep_prob: Dropout keep probability\n",
    "    :param decoding_embedding_size: Decoding embedding size\n",
    "    :return: Tuple of (Training BasicDecoderOutput, Inference BasicDecoderOutput)\n",
    "    \"\"\"\n",
    "    # TODO: Implement Function\n",
    "    # Decoder embedding\n",
    "    dec_embeddings = tf.Variable(tf.random_uniform([target_vocab_size, decoding_embedding_size], minval=-1, maxval=1))\n",
    "    dec_embed_input = tf.nn.embedding_lookup(dec_embeddings, dec_input)\n",
    "        \n",
    "    # LSTM cell\n",
    "    def make_cell(rnn_size):\n",
    "        dec_cell = tf.contrib.rnn.LSTMCell(rnn_size,\n",
    "                                           initializer=tf.random_uniform_initializer(-0.1, 0.1, seed=2))\n",
    "        return tf.contrib.rnn.DropoutWrapper(dec_cell, output_keep_prob=keep_prob)\n",
    "    \n",
    "    dec_cell = tf.contrib.rnn.MultiRNNCell([make_cell(rnn_size) for _ in range(num_layers)])        \n",
    "\n",
    "    output_layer = Dense(target_vocab_size,\n",
    "                         kernel_initializer=tf.truncated_normal_initializer(mean=0.0, stddev=0.1))\n",
    "\n",
    "    start_of_sequence_id = target_vocab_to_int['<GO>']\n",
    "    end_of_sequence_id = target_vocab_to_int['<EOS>']\n",
    "    \n",
    "    #train_logits = None\n",
    "    #inference_logits = None\n",
    "    \n",
    "    with tf.variable_scope(\"decode\"):    \n",
    "        train_logits = decoding_layer_train(encoder_state, dec_cell, dec_embed_input, \n",
    "                                            target_sequence_length, max_target_sequence_length,\n",
    "                                            output_layer, keep_prob)\n",
    "        \n",
    "    with tf.variable_scope(\"decode\", reuse=True):\n",
    "        inference_logits = decoding_layer_infer(encoder_state, dec_cell, dec_embeddings, \n",
    "                                            start_of_sequence_id, end_of_sequence_id, \n",
    "                                            max_target_sequence_length, target_vocab_size, \n",
    "                                            output_layer, batch_size, keep_prob)\n",
    "\n",
    "    return train_logits, inference_logits\n",
    "\n",
    "\n",
    "\"\"\"\n",
    "DON'T MODIFY ANYTHING IN THIS CELL THAT IS BELOW THIS LINE\n",
    "\"\"\"\n",
    "tests.test_decoding_layer(decoding_layer)"
   ]
  },
  {
   "cell_type": "markdown",
   "metadata": {},
   "source": [
    "### Build the Neural Network\n",
    "Apply the functions you implemented above to:\n",
    "\n",
    "- Encode the input using your `encoding_layer(rnn_inputs, rnn_size, num_layers, keep_prob,  source_sequence_length, source_vocab_size, encoding_embedding_size)`.\n",
    "- Process target data using your `process_decoder_input(target_data, target_vocab_to_int, batch_size)` function.\n",
    "- Decode the encoded input using your `decoding_layer(dec_input, enc_state, target_sequence_length, max_target_sentence_length, rnn_size, num_layers, target_vocab_to_int, target_vocab_size, batch_size, keep_prob, dec_embedding_size)` function."
   ]
  },
  {
   "cell_type": "code",
   "execution_count": 13,
   "metadata": {},
   "outputs": [
    {
     "name": "stdout",
     "output_type": "stream",
     "text": [
      "Tests Passed\n"
     ]
    }
   ],
   "source": [
    "def seq2seq_model(input_data, target_data, keep_prob, batch_size,\n",
    "                  source_sequence_length, target_sequence_length,\n",
    "                  max_target_sentence_length,\n",
    "                  source_vocab_size, target_vocab_size,\n",
    "                  enc_embedding_size, dec_embedding_size,\n",
    "                  rnn_size, num_layers, target_vocab_to_int):\n",
    "    \"\"\"\n",
    "    Build the Sequence-to-Sequence part of the neural network\n",
    "    :param input_data: Input placeholder\n",
    "    :param target_data: Target placeholder\n",
    "    :param keep_prob: Dropout keep probability placeholder\n",
    "    :param batch_size: Batch Size\n",
    "    :param source_sequence_length: Sequence Lengths of source sequences in the batch\n",
    "    :param target_sequence_length: Sequence Lengths of target sequences in the batch\n",
    "    :param source_vocab_size: Source vocabulary size\n",
    "    :param target_vocab_size: Target vocabulary size\n",
    "    :param enc_embedding_size: Decoder embedding size\n",
    "    :param dec_embedding_size: Encoder embedding size\n",
    "    :param rnn_size: RNN Size\n",
    "    :param num_layers: Number of layers\n",
    "    :param target_vocab_to_int: Dictionary to go from the target words to an id\n",
    "    :return: Tuple of (Training BasicDecoderOutput, Inference BasicDecoderOutput)\n",
    "    \"\"\"\n",
    "    # TODO: Implement Function\n",
    "        # Pass the input data through the encoder. We'll ignore the encoder output, but use the state\n",
    "    _, enc_state = encoding_layer(input_data, rnn_size, num_layers, keep_prob,  \n",
    "                                  source_sequence_length, source_vocab_size, \n",
    "                                  enc_embedding_size)\n",
    "    \n",
    "    \n",
    "    # Prepare the target sequences we'll feed to the decoder in training mode\n",
    "    dec_input = process_decoder_input(target_data, target_vocab_to_int, batch_size)\n",
    "    \n",
    "    # Pass encoder state and decoder inputs to the decoders\n",
    "    training_decoder_output, inference_decoder_output = decoding_layer(dec_input, enc_state, target_sequence_length,\n",
    "                                        max_target_sentence_length, rnn_size, num_layers, \n",
    "                                       target_vocab_to_int, target_vocab_size, batch_size, \n",
    "                                       keep_prob, dec_embedding_size) \n",
    "    \n",
    "    return training_decoder_output, inference_decoder_output\n",
    "\n",
    "\n",
    "\"\"\"\n",
    "DON'T MODIFY ANYTHING IN THIS CELL THAT IS BELOW THIS LINE\n",
    "\"\"\"\n",
    "tests.test_seq2seq_model(seq2seq_model)"
   ]
  },
  {
   "cell_type": "markdown",
   "metadata": {},
   "source": [
    "## Neural Network Training\n",
    "### Hyperparameters\n",
    "Tune the following parameters:\n",
    "\n",
    "- Set `epochs` to the number of epochs.\n",
    "- Set `batch_size` to the batch size.\n",
    "- Set `rnn_size` to the size of the RNNs.\n",
    "- Set `num_layers` to the number of layers.\n",
    "- Set `encoding_embedding_size` to the size of the embedding for the encoder.\n",
    "- Set `decoding_embedding_size` to the size of the embedding for the decoder.\n",
    "- Set `learning_rate` to the learning rate.\n",
    "- Set `keep_probability` to the Dropout keep probability\n",
    "- Set `display_step` to state how many steps between each debug output statement"
   ]
  },
  {
   "cell_type": "code",
   "execution_count": 14,
   "metadata": {
    "collapsed": true
   },
   "outputs": [],
   "source": [
    "# Number of Epochs\n",
    "epochs = 8\n",
    "# Batch Size\n",
    "batch_size = 512\n",
    "# RNN Size\n",
    "rnn_size = 256\n",
    "# Number of Layers\n",
    "num_layers = 2\n",
    "# Embedding Size\n",
    "encoding_embedding_size = 256\n",
    "decoding_embedding_size = 256\n",
    "# Learning Rate\n",
    "learning_rate = 0.001\n",
    "# Dropout Keep Probability\n",
    "keep_probability = 0.5\n",
    "display_step = 10"
   ]
  },
  {
   "cell_type": "markdown",
   "metadata": {},
   "source": [
    "### Build the Graph\n",
    "Build the graph using the neural network you implemented."
   ]
  },
  {
   "cell_type": "code",
   "execution_count": 15,
   "metadata": {
    "collapsed": true
   },
   "outputs": [],
   "source": [
    "\"\"\"\n",
    "DON'T MODIFY ANYTHING IN THIS CELL\n",
    "\"\"\"\n",
    "save_path = 'checkpoints/dev'\n",
    "(source_int_text, target_int_text), (source_vocab_to_int, target_vocab_to_int), _ = helper.load_preprocess()\n",
    "max_target_sentence_length = max([len(sentence) for sentence in source_int_text])\n",
    "\n",
    "train_graph = tf.Graph()\n",
    "with train_graph.as_default():\n",
    "    input_data, targets, lr, keep_prob, target_sequence_length, max_target_sequence_length, source_sequence_length = model_inputs()\n",
    "\n",
    "    #sequence_length = tf.placeholder_with_default(max_target_sentence_length, None, name='sequence_length')\n",
    "    input_shape = tf.shape(input_data)\n",
    "\n",
    "    train_logits, inference_logits = seq2seq_model(tf.reverse(input_data, [-1]),\n",
    "                                                   targets,\n",
    "                                                   keep_prob,\n",
    "                                                   batch_size,\n",
    "                                                   source_sequence_length,\n",
    "                                                   target_sequence_length,\n",
    "                                                   max_target_sequence_length,\n",
    "                                                   len(source_vocab_to_int),\n",
    "                                                   len(target_vocab_to_int),\n",
    "                                                   encoding_embedding_size,\n",
    "                                                   decoding_embedding_size,\n",
    "                                                   rnn_size,\n",
    "                                                   num_layers,\n",
    "                                                   target_vocab_to_int)\n",
    "\n",
    "\n",
    "    training_logits = tf.identity(train_logits.rnn_output, name='logits')\n",
    "    inference_logits = tf.identity(inference_logits.sample_id, name='predictions')\n",
    "\n",
    "    masks = tf.sequence_mask(target_sequence_length, max_target_sequence_length, dtype=tf.float32, name='masks')\n",
    "\n",
    "    with tf.name_scope(\"optimization\"):\n",
    "        # Loss function\n",
    "        cost = tf.contrib.seq2seq.sequence_loss(\n",
    "            training_logits,\n",
    "            targets,\n",
    "            masks)\n",
    "\n",
    "        # Optimizer\n",
    "        optimizer = tf.train.AdamOptimizer(lr)\n",
    "\n",
    "        # Gradient Clipping\n",
    "        gradients = optimizer.compute_gradients(cost)\n",
    "        capped_gradients = [(tf.clip_by_value(grad, -1., 1.), var) for grad, var in gradients if grad is not None]\n",
    "        train_op = optimizer.apply_gradients(capped_gradients)\n"
   ]
  },
  {
   "cell_type": "markdown",
   "metadata": {},
   "source": [
    "Batch and pad the source and target sequences"
   ]
  },
  {
   "cell_type": "code",
   "execution_count": 16,
   "metadata": {
    "collapsed": true
   },
   "outputs": [],
   "source": [
    "\"\"\"\n",
    "DON'T MODIFY ANYTHING IN THIS CELL\n",
    "\"\"\"\n",
    "def pad_sentence_batch(sentence_batch, pad_int):\n",
    "    \"\"\"Pad sentences with <PAD> so that each sentence of a batch has the same length\"\"\"\n",
    "    max_sentence = max([len(sentence) for sentence in sentence_batch])\n",
    "    return [sentence + [pad_int] * (max_sentence - len(sentence)) for sentence in sentence_batch]\n",
    "\n",
    "\n",
    "def get_batches(sources, targets, batch_size, source_pad_int, target_pad_int):\n",
    "    \"\"\"Batch targets, sources, and the lengths of their sentences together\"\"\"\n",
    "    for batch_i in range(0, len(sources)//batch_size):\n",
    "        start_i = batch_i * batch_size\n",
    "\n",
    "        # Slice the right amount for the batch\n",
    "        sources_batch = sources[start_i:start_i + batch_size]\n",
    "        targets_batch = targets[start_i:start_i + batch_size]\n",
    "\n",
    "        # Pad\n",
    "        pad_sources_batch = np.array(pad_sentence_batch(sources_batch, source_pad_int))\n",
    "        pad_targets_batch = np.array(pad_sentence_batch(targets_batch, target_pad_int))\n",
    "\n",
    "        # Need the lengths for the _lengths parameters\n",
    "        pad_targets_lengths = []\n",
    "        for target in pad_targets_batch:\n",
    "            pad_targets_lengths.append(len(target))\n",
    "\n",
    "        pad_source_lengths = []\n",
    "        for source in pad_sources_batch:\n",
    "            pad_source_lengths.append(len(source))\n",
    "\n",
    "        yield pad_sources_batch, pad_targets_batch, pad_source_lengths, pad_targets_lengths\n"
   ]
  },
  {
   "cell_type": "markdown",
   "metadata": {},
   "source": [
    "### Train\n",
    "Train the neural network on the preprocessed data. If you have a hard time getting a good loss, check the forms to see if anyone is having the same problem."
   ]
  },
  {
   "cell_type": "code",
   "execution_count": 17,
   "metadata": {
    "scrolled": true
   },
   "outputs": [
    {
     "name": "stdout",
     "output_type": "stream",
     "text": [
      "Epoch   0 Batch   10/269 - Train Accuracy: 0.3594, Validation Accuracy: 0.4174, Loss: 3.3161\n",
      "Epoch   0 Batch   20/269 - Train Accuracy: 0.3047, Validation Accuracy: 0.3730, Loss: 2.7412\n",
      "Epoch   0 Batch   30/269 - Train Accuracy: 0.3740, Validation Accuracy: 0.4142, Loss: 2.2518\n",
      "Epoch   0 Batch   40/269 - Train Accuracy: 0.3786, Validation Accuracy: 0.4415, Loss: 2.0215\n",
      "Epoch   0 Batch   50/269 - Train Accuracy: 0.3566, Validation Accuracy: 0.4214, Loss: 1.7895\n",
      "Epoch   0 Batch   60/269 - Train Accuracy: 0.4028, Validation Accuracy: 0.4253, Loss: 1.4936\n",
      "Epoch   0 Batch   70/269 - Train Accuracy: 0.4167, Validation Accuracy: 0.4337, Loss: 1.4000\n",
      "Epoch   0 Batch   80/269 - Train Accuracy: 0.4106, Validation Accuracy: 0.4500, Loss: 1.2628\n",
      "Epoch   0 Batch   90/269 - Train Accuracy: 0.3929, Validation Accuracy: 0.4624, Loss: 1.2523\n",
      "Epoch   0 Batch  100/269 - Train Accuracy: 0.4834, Validation Accuracy: 0.5151, Loss: 1.0899\n",
      "Epoch   0 Batch  110/269 - Train Accuracy: 0.4912, Validation Accuracy: 0.4901, Loss: 1.0324\n",
      "Epoch   0 Batch  120/269 - Train Accuracy: 0.4687, Validation Accuracy: 0.5014, Loss: 1.0160\n",
      "Epoch   0 Batch  130/269 - Train Accuracy: 0.5060, Validation Accuracy: 0.5337, Loss: 0.9827\n",
      "Epoch   0 Batch  140/269 - Train Accuracy: 0.5485, Validation Accuracy: 0.5436, Loss: 0.9130\n",
      "Epoch   0 Batch  150/269 - Train Accuracy: 0.5496, Validation Accuracy: 0.5582, Loss: 0.8748\n",
      "Epoch   0 Batch  160/269 - Train Accuracy: 0.5761, Validation Accuracy: 0.5692, Loss: 0.8234\n",
      "Epoch   0 Batch  170/269 - Train Accuracy: 0.5808, Validation Accuracy: 0.5781, Loss: 0.7992\n",
      "Epoch   0 Batch  180/269 - Train Accuracy: 0.5718, Validation Accuracy: 0.5738, Loss: 0.7634\n",
      "Epoch   0 Batch  190/269 - Train Accuracy: 0.5872, Validation Accuracy: 0.5980, Loss: 0.7338\n",
      "Epoch   0 Batch  200/269 - Train Accuracy: 0.5860, Validation Accuracy: 0.6064, Loss: 0.7573\n",
      "Epoch   0 Batch  210/269 - Train Accuracy: 0.6017, Validation Accuracy: 0.6016, Loss: 0.7000\n",
      "Epoch   0 Batch  220/269 - Train Accuracy: 0.6089, Validation Accuracy: 0.5991, Loss: 0.6612\n",
      "Epoch   0 Batch  230/269 - Train Accuracy: 0.5984, Validation Accuracy: 0.6025, Loss: 0.6848\n",
      "Epoch   0 Batch  240/269 - Train Accuracy: 0.6343, Validation Accuracy: 0.6176, Loss: 0.6056\n",
      "Epoch   0 Batch  250/269 - Train Accuracy: 0.6023, Validation Accuracy: 0.6196, Loss: 0.6775\n",
      "Epoch   0 Batch  260/269 - Train Accuracy: 0.6070, Validation Accuracy: 0.6160, Loss: 0.6799\n",
      "Epoch   1 Batch   10/269 - Train Accuracy: 0.6199, Validation Accuracy: 0.6313, Loss: 0.6514\n",
      "Epoch   1 Batch   20/269 - Train Accuracy: 0.6150, Validation Accuracy: 0.6408, Loss: 0.6272\n",
      "Epoch   1 Batch   30/269 - Train Accuracy: 0.6521, Validation Accuracy: 0.6465, Loss: 0.6011\n",
      "Epoch   1 Batch   40/269 - Train Accuracy: 0.6303, Validation Accuracy: 0.6502, Loss: 0.6146\n",
      "Epoch   1 Batch   50/269 - Train Accuracy: 0.6138, Validation Accuracy: 0.6437, Loss: 0.6099\n",
      "Epoch   1 Batch   60/269 - Train Accuracy: 0.6497, Validation Accuracy: 0.6572, Loss: 0.5488\n",
      "Epoch   1 Batch   70/269 - Train Accuracy: 0.6654, Validation Accuracy: 0.6613, Loss: 0.5685\n",
      "Epoch   1 Batch   80/269 - Train Accuracy: 0.6770, Validation Accuracy: 0.6515, Loss: 0.5456\n",
      "Epoch   1 Batch   90/269 - Train Accuracy: 0.6289, Validation Accuracy: 0.6687, Loss: 0.5749\n",
      "Epoch   1 Batch  100/269 - Train Accuracy: 0.6979, Validation Accuracy: 0.6835, Loss: 0.5247\n",
      "Epoch   1 Batch  110/269 - Train Accuracy: 0.6658, Validation Accuracy: 0.6753, Loss: 0.5227\n",
      "Epoch   1 Batch  120/269 - Train Accuracy: 0.6796, Validation Accuracy: 0.6858, Loss: 0.5430\n",
      "Epoch   1 Batch  130/269 - Train Accuracy: 0.6734, Validation Accuracy: 0.6954, Loss: 0.5344\n",
      "Epoch   1 Batch  140/269 - Train Accuracy: 0.7009, Validation Accuracy: 0.6987, Loss: 0.5194\n",
      "Epoch   1 Batch  150/269 - Train Accuracy: 0.6988, Validation Accuracy: 0.7012, Loss: 0.5044\n",
      "Epoch   1 Batch  160/269 - Train Accuracy: 0.6987, Validation Accuracy: 0.7044, Loss: 0.4866\n",
      "Epoch   1 Batch  170/269 - Train Accuracy: 0.7009, Validation Accuracy: 0.6990, Loss: 0.4835\n",
      "Epoch   1 Batch  180/269 - Train Accuracy: 0.7181, Validation Accuracy: 0.7171, Loss: 0.4716\n",
      "Epoch   1 Batch  190/269 - Train Accuracy: 0.7077, Validation Accuracy: 0.7098, Loss: 0.4633\n",
      "Epoch   1 Batch  200/269 - Train Accuracy: 0.7061, Validation Accuracy: 0.7175, Loss: 0.4724\n",
      "Epoch   1 Batch  210/269 - Train Accuracy: 0.7191, Validation Accuracy: 0.7256, Loss: 0.4424\n",
      "Epoch   1 Batch  220/269 - Train Accuracy: 0.7372, Validation Accuracy: 0.7328, Loss: 0.4165\n",
      "Epoch   1 Batch  230/269 - Train Accuracy: 0.7358, Validation Accuracy: 0.7431, Loss: 0.4264\n",
      "Epoch   1 Batch  240/269 - Train Accuracy: 0.7533, Validation Accuracy: 0.7194, Loss: 0.3807\n",
      "Epoch   1 Batch  250/269 - Train Accuracy: 0.7497, Validation Accuracy: 0.7435, Loss: 0.4216\n",
      "Epoch   1 Batch  260/269 - Train Accuracy: 0.7430, Validation Accuracy: 0.7514, Loss: 0.4169\n",
      "Epoch   2 Batch   10/269 - Train Accuracy: 0.7568, Validation Accuracy: 0.7571, Loss: 0.3889\n",
      "Epoch   2 Batch   20/269 - Train Accuracy: 0.7748, Validation Accuracy: 0.7673, Loss: 0.3742\n",
      "Epoch   2 Batch   30/269 - Train Accuracy: 0.7725, Validation Accuracy: 0.7591, Loss: 0.3593\n",
      "Epoch   2 Batch   40/269 - Train Accuracy: 0.7578, Validation Accuracy: 0.7661, Loss: 0.3671\n",
      "Epoch   2 Batch   50/269 - Train Accuracy: 0.7593, Validation Accuracy: 0.7741, Loss: 0.3651\n",
      "Epoch   2 Batch   60/269 - Train Accuracy: 0.7958, Validation Accuracy: 0.7787, Loss: 0.3129\n",
      "Epoch   2 Batch   70/269 - Train Accuracy: 0.7903, Validation Accuracy: 0.7808, Loss: 0.3258\n",
      "Epoch   2 Batch   80/269 - Train Accuracy: 0.7771, Validation Accuracy: 0.7581, Loss: 0.3168\n",
      "Epoch   2 Batch   90/269 - Train Accuracy: 0.7650, Validation Accuracy: 0.7801, Loss: 0.3303\n",
      "Epoch   2 Batch  100/269 - Train Accuracy: 0.8054, Validation Accuracy: 0.7964, Loss: 0.3042\n",
      "Epoch   2 Batch  110/269 - Train Accuracy: 0.8032, Validation Accuracy: 0.7907, Loss: 0.2933\n",
      "Epoch   2 Batch  120/269 - Train Accuracy: 0.7943, Validation Accuracy: 0.7847, Loss: 0.3047\n",
      "Epoch   2 Batch  130/269 - Train Accuracy: 0.7998, Validation Accuracy: 0.7957, Loss: 0.3015\n",
      "Epoch   2 Batch  140/269 - Train Accuracy: 0.8087, Validation Accuracy: 0.7961, Loss: 0.2915\n",
      "Epoch   2 Batch  150/269 - Train Accuracy: 0.7993, Validation Accuracy: 0.8128, Loss: 0.2719\n",
      "Epoch   2 Batch  160/269 - Train Accuracy: 0.8320, Validation Accuracy: 0.8159, Loss: 0.2637\n",
      "Epoch   2 Batch  170/269 - Train Accuracy: 0.8312, Validation Accuracy: 0.8135, Loss: 0.2509\n",
      "Epoch   2 Batch  180/269 - Train Accuracy: 0.8371, Validation Accuracy: 0.8154, Loss: 0.2479\n",
      "Epoch   2 Batch  190/269 - Train Accuracy: 0.8518, Validation Accuracy: 0.8379, Loss: 0.2423\n",
      "Epoch   2 Batch  200/269 - Train Accuracy: 0.8435, Validation Accuracy: 0.8353, Loss: 0.2494\n",
      "Epoch   2 Batch  210/269 - Train Accuracy: 0.8411, Validation Accuracy: 0.8476, Loss: 0.2305\n",
      "Epoch   2 Batch  220/269 - Train Accuracy: 0.8659, Validation Accuracy: 0.8536, Loss: 0.2226\n",
      "Epoch   2 Batch  230/269 - Train Accuracy: 0.8602, Validation Accuracy: 0.8623, Loss: 0.2212\n",
      "Epoch   2 Batch  240/269 - Train Accuracy: 0.8802, Validation Accuracy: 0.8706, Loss: 0.1996\n",
      "Epoch   2 Batch  250/269 - Train Accuracy: 0.8803, Validation Accuracy: 0.8687, Loss: 0.2176\n",
      "Epoch   2 Batch  260/269 - Train Accuracy: 0.8566, Validation Accuracy: 0.8652, Loss: 0.2238\n",
      "Epoch   3 Batch   10/269 - Train Accuracy: 0.8831, Validation Accuracy: 0.8795, Loss: 0.1979\n",
      "Epoch   3 Batch   20/269 - Train Accuracy: 0.8776, Validation Accuracy: 0.8753, Loss: 0.2018\n",
      "Epoch   3 Batch   30/269 - Train Accuracy: 0.8824, Validation Accuracy: 0.8778, Loss: 0.1907\n",
      "Epoch   3 Batch   40/269 - Train Accuracy: 0.8674, Validation Accuracy: 0.8797, Loss: 0.2024\n",
      "Epoch   3 Batch   50/269 - Train Accuracy: 0.8631, Validation Accuracy: 0.8782, Loss: 0.1982\n",
      "Epoch   3 Batch   60/269 - Train Accuracy: 0.9050, Validation Accuracy: 0.8847, Loss: 0.1738\n",
      "Epoch   3 Batch   70/269 - Train Accuracy: 0.8887, Validation Accuracy: 0.8875, Loss: 0.1840\n",
      "Epoch   3 Batch   80/269 - Train Accuracy: 0.8992, Validation Accuracy: 0.8958, Loss: 0.1752\n",
      "Epoch   3 Batch   90/269 - Train Accuracy: 0.8938, Validation Accuracy: 0.8935, Loss: 0.1802\n",
      "Epoch   3 Batch  100/269 - Train Accuracy: 0.8973, Validation Accuracy: 0.8890, Loss: 0.1678\n",
      "Epoch   3 Batch  110/269 - Train Accuracy: 0.8930, Validation Accuracy: 0.8989, Loss: 0.1617\n"
     ]
    },
    {
     "name": "stdout",
     "output_type": "stream",
     "text": [
      "Epoch   3 Batch  120/269 - Train Accuracy: 0.8926, Validation Accuracy: 0.8870, Loss: 0.1677\n",
      "Epoch   3 Batch  130/269 - Train Accuracy: 0.9065, Validation Accuracy: 0.9038, Loss: 0.1616\n",
      "Epoch   3 Batch  140/269 - Train Accuracy: 0.8835, Validation Accuracy: 0.9034, Loss: 0.1629\n",
      "Epoch   3 Batch  150/269 - Train Accuracy: 0.8888, Validation Accuracy: 0.8988, Loss: 0.1524\n",
      "Epoch   3 Batch  160/269 - Train Accuracy: 0.8996, Validation Accuracy: 0.9015, Loss: 0.1495\n",
      "Epoch   3 Batch  170/269 - Train Accuracy: 0.8938, Validation Accuracy: 0.9047, Loss: 0.1416\n",
      "Epoch   3 Batch  180/269 - Train Accuracy: 0.9070, Validation Accuracy: 0.9069, Loss: 0.1383\n",
      "Epoch   3 Batch  190/269 - Train Accuracy: 0.9171, Validation Accuracy: 0.9073, Loss: 0.1370\n",
      "Epoch   3 Batch  200/269 - Train Accuracy: 0.8918, Validation Accuracy: 0.9073, Loss: 0.1443\n",
      "Epoch   3 Batch  210/269 - Train Accuracy: 0.9097, Validation Accuracy: 0.9126, Loss: 0.1349\n",
      "Epoch   3 Batch  220/269 - Train Accuracy: 0.9213, Validation Accuracy: 0.9039, Loss: 0.1285\n",
      "Epoch   3 Batch  230/269 - Train Accuracy: 0.9212, Validation Accuracy: 0.9138, Loss: 0.1256\n",
      "Epoch   3 Batch  240/269 - Train Accuracy: 0.9298, Validation Accuracy: 0.9118, Loss: 0.1125\n",
      "Epoch   3 Batch  250/269 - Train Accuracy: 0.9195, Validation Accuracy: 0.9146, Loss: 0.1267\n",
      "Epoch   3 Batch  260/269 - Train Accuracy: 0.8899, Validation Accuracy: 0.9189, Loss: 0.1293\n",
      "Epoch   4 Batch   10/269 - Train Accuracy: 0.9216, Validation Accuracy: 0.9138, Loss: 0.1138\n",
      "Epoch   4 Batch   20/269 - Train Accuracy: 0.9266, Validation Accuracy: 0.9210, Loss: 0.1103\n",
      "Epoch   4 Batch   30/269 - Train Accuracy: 0.9229, Validation Accuracy: 0.9228, Loss: 0.1094\n",
      "Epoch   4 Batch   40/269 - Train Accuracy: 0.9039, Validation Accuracy: 0.9226, Loss: 0.1140\n",
      "Epoch   4 Batch   50/269 - Train Accuracy: 0.9014, Validation Accuracy: 0.9226, Loss: 0.1202\n",
      "Epoch   4 Batch   60/269 - Train Accuracy: 0.9337, Validation Accuracy: 0.9181, Loss: 0.0960\n",
      "Epoch   4 Batch   70/269 - Train Accuracy: 0.9329, Validation Accuracy: 0.9253, Loss: 0.1091\n",
      "Epoch   4 Batch   80/269 - Train Accuracy: 0.9241, Validation Accuracy: 0.9285, Loss: 0.0985\n",
      "Epoch   4 Batch   90/269 - Train Accuracy: 0.9233, Validation Accuracy: 0.9215, Loss: 0.1037\n",
      "Epoch   4 Batch  100/269 - Train Accuracy: 0.9289, Validation Accuracy: 0.9271, Loss: 0.0971\n",
      "Epoch   4 Batch  110/269 - Train Accuracy: 0.9237, Validation Accuracy: 0.9228, Loss: 0.0922\n",
      "Epoch   4 Batch  120/269 - Train Accuracy: 0.9223, Validation Accuracy: 0.9232, Loss: 0.0976\n",
      "Epoch   4 Batch  130/269 - Train Accuracy: 0.9275, Validation Accuracy: 0.9262, Loss: 0.0954\n",
      "Epoch   4 Batch  140/269 - Train Accuracy: 0.9258, Validation Accuracy: 0.9278, Loss: 0.0968\n",
      "Epoch   4 Batch  150/269 - Train Accuracy: 0.9191, Validation Accuracy: 0.9142, Loss: 0.0932\n",
      "Epoch   4 Batch  160/269 - Train Accuracy: 0.9239, Validation Accuracy: 0.9314, Loss: 0.0883\n",
      "Epoch   4 Batch  170/269 - Train Accuracy: 0.9196, Validation Accuracy: 0.9392, Loss: 0.0838\n",
      "Epoch   4 Batch  180/269 - Train Accuracy: 0.9296, Validation Accuracy: 0.9379, Loss: 0.0829\n",
      "Epoch   4 Batch  190/269 - Train Accuracy: 0.9235, Validation Accuracy: 0.9352, Loss: 0.0852\n",
      "Epoch   4 Batch  200/269 - Train Accuracy: 0.9263, Validation Accuracy: 0.9315, Loss: 0.0861\n",
      "Epoch   4 Batch  210/269 - Train Accuracy: 0.9287, Validation Accuracy: 0.9399, Loss: 0.0770\n",
      "Epoch   4 Batch  220/269 - Train Accuracy: 0.9339, Validation Accuracy: 0.9372, Loss: 0.0802\n",
      "Epoch   4 Batch  230/269 - Train Accuracy: 0.9315, Validation Accuracy: 0.9452, Loss: 0.0812\n",
      "Epoch   4 Batch  240/269 - Train Accuracy: 0.9408, Validation Accuracy: 0.9352, Loss: 0.0742\n",
      "Epoch   4 Batch  250/269 - Train Accuracy: 0.9333, Validation Accuracy: 0.9386, Loss: 0.0801\n",
      "Epoch   4 Batch  260/269 - Train Accuracy: 0.9380, Validation Accuracy: 0.9389, Loss: 0.0891\n",
      "Epoch   5 Batch   10/269 - Train Accuracy: 0.9335, Validation Accuracy: 0.9394, Loss: 0.0691\n",
      "Epoch   5 Batch   20/269 - Train Accuracy: 0.9326, Validation Accuracy: 0.9450, Loss: 0.0705\n",
      "Epoch   5 Batch   30/269 - Train Accuracy: 0.9355, Validation Accuracy: 0.9467, Loss: 0.0687\n",
      "Epoch   5 Batch   40/269 - Train Accuracy: 0.9236, Validation Accuracy: 0.9458, Loss: 0.0794\n",
      "Epoch   5 Batch   50/269 - Train Accuracy: 0.9127, Validation Accuracy: 0.9405, Loss: 0.0859\n",
      "Epoch   5 Batch   60/269 - Train Accuracy: 0.9388, Validation Accuracy: 0.9387, Loss: 0.0678\n",
      "Epoch   5 Batch   70/269 - Train Accuracy: 0.9401, Validation Accuracy: 0.9428, Loss: 0.0744\n",
      "Epoch   5 Batch   80/269 - Train Accuracy: 0.9445, Validation Accuracy: 0.9373, Loss: 0.0714\n",
      "Epoch   5 Batch   90/269 - Train Accuracy: 0.9412, Validation Accuracy: 0.9402, Loss: 0.0702\n",
      "Epoch   5 Batch  100/269 - Train Accuracy: 0.9399, Validation Accuracy: 0.9375, Loss: 0.0732\n",
      "Epoch   5 Batch  110/269 - Train Accuracy: 0.9391, Validation Accuracy: 0.9444, Loss: 0.0636\n",
      "Epoch   5 Batch  120/269 - Train Accuracy: 0.9449, Validation Accuracy: 0.9490, Loss: 0.0689\n",
      "Epoch   5 Batch  130/269 - Train Accuracy: 0.9394, Validation Accuracy: 0.9396, Loss: 0.0693\n",
      "Epoch   5 Batch  140/269 - Train Accuracy: 0.9400, Validation Accuracy: 0.9438, Loss: 0.0742\n",
      "Epoch   5 Batch  150/269 - Train Accuracy: 0.9399, Validation Accuracy: 0.9441, Loss: 0.0688\n",
      "Epoch   5 Batch  160/269 - Train Accuracy: 0.9392, Validation Accuracy: 0.9403, Loss: 0.0659\n",
      "Epoch   5 Batch  170/269 - Train Accuracy: 0.9386, Validation Accuracy: 0.9482, Loss: 0.0586\n",
      "Epoch   5 Batch  180/269 - Train Accuracy: 0.9480, Validation Accuracy: 0.9428, Loss: 0.0610\n",
      "Epoch   5 Batch  190/269 - Train Accuracy: 0.9402, Validation Accuracy: 0.9377, Loss: 0.0614\n",
      "Epoch   5 Batch  200/269 - Train Accuracy: 0.9406, Validation Accuracy: 0.9518, Loss: 0.0623\n",
      "Epoch   5 Batch  210/269 - Train Accuracy: 0.9274, Validation Accuracy: 0.9485, Loss: 0.0576\n",
      "Epoch   5 Batch  220/269 - Train Accuracy: 0.9485, Validation Accuracy: 0.9540, Loss: 0.0625\n",
      "Epoch   5 Batch  230/269 - Train Accuracy: 0.9473, Validation Accuracy: 0.9564, Loss: 0.0632\n",
      "Epoch   5 Batch  240/269 - Train Accuracy: 0.9485, Validation Accuracy: 0.9574, Loss: 0.0579\n",
      "Epoch   5 Batch  250/269 - Train Accuracy: 0.9459, Validation Accuracy: 0.9565, Loss: 0.0627\n",
      "Epoch   5 Batch  260/269 - Train Accuracy: 0.9444, Validation Accuracy: 0.9543, Loss: 0.0674\n",
      "Epoch   6 Batch   10/269 - Train Accuracy: 0.9495, Validation Accuracy: 0.9555, Loss: 0.0550\n",
      "Epoch   6 Batch   20/269 - Train Accuracy: 0.9454, Validation Accuracy: 0.9580, Loss: 0.0524\n",
      "Epoch   6 Batch   30/269 - Train Accuracy: 0.9455, Validation Accuracy: 0.9539, Loss: 0.0614\n",
      "Epoch   6 Batch   40/269 - Train Accuracy: 0.9335, Validation Accuracy: 0.9586, Loss: 0.0604\n",
      "Epoch   6 Batch   50/269 - Train Accuracy: 0.9313, Validation Accuracy: 0.9537, Loss: 0.0718\n",
      "Epoch   6 Batch   60/269 - Train Accuracy: 0.9529, Validation Accuracy: 0.9521, Loss: 0.0541\n",
      "Epoch   6 Batch   70/269 - Train Accuracy: 0.9465, Validation Accuracy: 0.9575, Loss: 0.0587\n",
      "Epoch   6 Batch   80/269 - Train Accuracy: 0.9503, Validation Accuracy: 0.9584, Loss: 0.0528\n",
      "Epoch   6 Batch   90/269 - Train Accuracy: 0.9529, Validation Accuracy: 0.9591, Loss: 0.0570\n",
      "Epoch   6 Batch  100/269 - Train Accuracy: 0.9469, Validation Accuracy: 0.9552, Loss: 0.0569\n",
      "Epoch   6 Batch  110/269 - Train Accuracy: 0.9510, Validation Accuracy: 0.9534, Loss: 0.0525\n",
      "Epoch   6 Batch  120/269 - Train Accuracy: 0.9538, Validation Accuracy: 0.9509, Loss: 0.0590\n",
      "Epoch   6 Batch  130/269 - Train Accuracy: 0.9541, Validation Accuracy: 0.9615, Loss: 0.0555\n",
      "Epoch   6 Batch  140/269 - Train Accuracy: 0.9477, Validation Accuracy: 0.9606, Loss: 0.0609\n",
      "Epoch   6 Batch  150/269 - Train Accuracy: 0.9448, Validation Accuracy: 0.9498, Loss: 0.0583\n",
      "Epoch   6 Batch  160/269 - Train Accuracy: 0.9461, Validation Accuracy: 0.9561, Loss: 0.0516\n",
      "Epoch   6 Batch  170/269 - Train Accuracy: 0.9437, Validation Accuracy: 0.9640, Loss: 0.0511\n",
      "Epoch   6 Batch  180/269 - Train Accuracy: 0.9613, Validation Accuracy: 0.9600, Loss: 0.0500\n",
      "Epoch   6 Batch  190/269 - Train Accuracy: 0.9461, Validation Accuracy: 0.9553, Loss: 0.0492\n",
      "Epoch   6 Batch  200/269 - Train Accuracy: 0.9545, Validation Accuracy: 0.9578, Loss: 0.0515\n",
      "Epoch   6 Batch  210/269 - Train Accuracy: 0.9547, Validation Accuracy: 0.9617, Loss: 0.0526\n",
      "Epoch   6 Batch  220/269 - Train Accuracy: 0.9562, Validation Accuracy: 0.9601, Loss: 0.0465\n"
     ]
    },
    {
     "name": "stdout",
     "output_type": "stream",
     "text": [
      "Epoch   6 Batch  230/269 - Train Accuracy: 0.9563, Validation Accuracy: 0.9615, Loss: 0.0530\n",
      "Epoch   6 Batch  240/269 - Train Accuracy: 0.9507, Validation Accuracy: 0.9625, Loss: 0.0464\n",
      "Epoch   6 Batch  250/269 - Train Accuracy: 0.9490, Validation Accuracy: 0.9565, Loss: 0.0517\n",
      "Epoch   6 Batch  260/269 - Train Accuracy: 0.9508, Validation Accuracy: 0.9595, Loss: 0.0554\n",
      "Epoch   7 Batch   10/269 - Train Accuracy: 0.9516, Validation Accuracy: 0.9539, Loss: 0.0473\n",
      "Epoch   7 Batch   20/269 - Train Accuracy: 0.9521, Validation Accuracy: 0.9629, Loss: 0.0501\n",
      "Epoch   7 Batch   30/269 - Train Accuracy: 0.9562, Validation Accuracy: 0.9583, Loss: 0.0460\n",
      "Epoch   7 Batch   40/269 - Train Accuracy: 0.9428, Validation Accuracy: 0.9638, Loss: 0.0531\n",
      "Epoch   7 Batch   50/269 - Train Accuracy: 0.9364, Validation Accuracy: 0.9590, Loss: 0.0617\n",
      "Epoch   7 Batch   60/269 - Train Accuracy: 0.9572, Validation Accuracy: 0.9593, Loss: 0.0485\n",
      "Epoch   7 Batch   70/269 - Train Accuracy: 0.9537, Validation Accuracy: 0.9608, Loss: 0.0466\n",
      "Epoch   7 Batch   80/269 - Train Accuracy: 0.9589, Validation Accuracy: 0.9636, Loss: 0.0473\n",
      "Epoch   7 Batch   90/269 - Train Accuracy: 0.9592, Validation Accuracy: 0.9582, Loss: 0.0474\n",
      "Epoch   7 Batch  100/269 - Train Accuracy: 0.9528, Validation Accuracy: 0.9678, Loss: 0.0485\n",
      "Epoch   7 Batch  110/269 - Train Accuracy: 0.9522, Validation Accuracy: 0.9583, Loss: 0.0430\n",
      "Epoch   7 Batch  120/269 - Train Accuracy: 0.9522, Validation Accuracy: 0.9622, Loss: 0.0513\n",
      "Epoch   7 Batch  130/269 - Train Accuracy: 0.9653, Validation Accuracy: 0.9656, Loss: 0.0473\n",
      "Epoch   7 Batch  140/269 - Train Accuracy: 0.9511, Validation Accuracy: 0.9659, Loss: 0.0507\n",
      "Epoch   7 Batch  150/269 - Train Accuracy: 0.9614, Validation Accuracy: 0.9646, Loss: 0.0485\n",
      "Epoch   7 Batch  160/269 - Train Accuracy: 0.9541, Validation Accuracy: 0.9711, Loss: 0.0425\n",
      "Epoch   7 Batch  170/269 - Train Accuracy: 0.9499, Validation Accuracy: 0.9700, Loss: 0.0368\n",
      "Epoch   7 Batch  180/269 - Train Accuracy: 0.9698, Validation Accuracy: 0.9670, Loss: 0.0432\n",
      "Epoch   7 Batch  190/269 - Train Accuracy: 0.9552, Validation Accuracy: 0.9648, Loss: 0.0423\n",
      "Epoch   7 Batch  200/269 - Train Accuracy: 0.9649, Validation Accuracy: 0.9690, Loss: 0.0421\n",
      "Epoch   7 Batch  210/269 - Train Accuracy: 0.9553, Validation Accuracy: 0.9650, Loss: 0.0421\n",
      "Epoch   7 Batch  220/269 - Train Accuracy: 0.9539, Validation Accuracy: 0.9575, Loss: 0.0429\n",
      "Epoch   7 Batch  230/269 - Train Accuracy: 0.9631, Validation Accuracy: 0.9685, Loss: 0.0436\n",
      "Epoch   7 Batch  240/269 - Train Accuracy: 0.9602, Validation Accuracy: 0.9666, Loss: 0.0394\n",
      "Epoch   7 Batch  250/269 - Train Accuracy: 0.9603, Validation Accuracy: 0.9628, Loss: 0.0418\n",
      "Epoch   7 Batch  260/269 - Train Accuracy: 0.9579, Validation Accuracy: 0.9632, Loss: 0.0476\n",
      "Model Trained and Saved\n"
     ]
    }
   ],
   "source": [
    "\"\"\"\n",
    "DON'T MODIFY ANYTHING IN THIS CELL\n",
    "\"\"\"\n",
    "def get_accuracy(target, logits):\n",
    "    \"\"\"\n",
    "    Calculate accuracy\n",
    "    \"\"\"\n",
    "    max_seq = max(target.shape[1], logits.shape[1])\n",
    "    if max_seq - target.shape[1]:\n",
    "        target = np.pad(\n",
    "            target,\n",
    "            [(0,0),(0,max_seq - target.shape[1])],\n",
    "            'constant')\n",
    "    if max_seq - logits.shape[1]:\n",
    "        logits = np.pad(\n",
    "            logits,\n",
    "            [(0,0),(0,max_seq - logits.shape[1])],\n",
    "            'constant')\n",
    "\n",
    "    return np.mean(np.equal(target, logits))\n",
    "\n",
    "# Split data to training and validation sets\n",
    "train_source = source_int_text[batch_size:]\n",
    "train_target = target_int_text[batch_size:]\n",
    "valid_source = source_int_text[:batch_size]\n",
    "valid_target = target_int_text[:batch_size]\n",
    "(valid_sources_batch, valid_targets_batch, valid_sources_lengths, valid_targets_lengths ) = next(get_batches(valid_source,\n",
    "                                                                                                             valid_target,\n",
    "                                                                                                             batch_size,\n",
    "                                                                                                             source_vocab_to_int['<PAD>'],\n",
    "                                                                                                             target_vocab_to_int['<PAD>']))                                                                                                  \n",
    "with tf.Session(graph=train_graph) as sess:\n",
    "    sess.run(tf.global_variables_initializer())\n",
    "\n",
    "    for epoch_i in range(epochs):\n",
    "        for batch_i, (source_batch, target_batch, sources_lengths, targets_lengths) in enumerate(\n",
    "                get_batches(train_source, train_target, batch_size,\n",
    "                            source_vocab_to_int['<PAD>'],\n",
    "                            target_vocab_to_int['<PAD>'])):\n",
    "\n",
    "            _, loss = sess.run(\n",
    "                [train_op, cost],\n",
    "                {input_data: source_batch,\n",
    "                 targets: target_batch,\n",
    "                 lr: learning_rate,\n",
    "                 target_sequence_length: targets_lengths,\n",
    "                 source_sequence_length: sources_lengths,\n",
    "                 keep_prob: keep_probability})\n",
    "\n",
    "\n",
    "            if batch_i % display_step == 0 and batch_i > 0:\n",
    "\n",
    "\n",
    "                batch_train_logits = sess.run(\n",
    "                    inference_logits,\n",
    "                    {input_data: source_batch,\n",
    "                     source_sequence_length: sources_lengths,\n",
    "                     target_sequence_length: targets_lengths,\n",
    "                     keep_prob: 1.0})\n",
    "\n",
    "\n",
    "                batch_valid_logits = sess.run(\n",
    "                    inference_logits,\n",
    "                    {input_data: valid_sources_batch,\n",
    "                     source_sequence_length: valid_sources_lengths,\n",
    "                     target_sequence_length: valid_targets_lengths,\n",
    "                     keep_prob: 1.0})\n",
    "\n",
    "                train_acc = get_accuracy(target_batch, batch_train_logits)\n",
    "\n",
    "                valid_acc = get_accuracy(valid_targets_batch, batch_valid_logits)\n",
    "\n",
    "                print('Epoch {:>3} Batch {:>4}/{} - Train Accuracy: {:>6.4f}, Validation Accuracy: {:>6.4f}, Loss: {:>6.4f}'\n",
    "                      .format(epoch_i, batch_i, len(source_int_text) // batch_size, train_acc, valid_acc, loss))\n",
    "\n",
    "    # Save Model\n",
    "    saver = tf.train.Saver()\n",
    "    saver.save(sess, save_path)\n",
    "    print('Model Trained and Saved')"
   ]
  },
  {
   "cell_type": "markdown",
   "metadata": {},
   "source": [
    "### Save Parameters\n",
    "Save the `batch_size` and `save_path` parameters for inference."
   ]
  },
  {
   "cell_type": "code",
   "execution_count": 18,
   "metadata": {
    "collapsed": true
   },
   "outputs": [],
   "source": [
    "\"\"\"\n",
    "DON'T MODIFY ANYTHING IN THIS CELL\n",
    "\"\"\"\n",
    "# Save parameters for checkpoint\n",
    "helper.save_params(save_path)"
   ]
  },
  {
   "cell_type": "markdown",
   "metadata": {},
   "source": [
    "# Checkpoint"
   ]
  },
  {
   "cell_type": "code",
   "execution_count": 19,
   "metadata": {
    "collapsed": true
   },
   "outputs": [],
   "source": [
    "\"\"\"\n",
    "DON'T MODIFY ANYTHING IN THIS CELL\n",
    "\"\"\"\n",
    "import tensorflow as tf\n",
    "import numpy as np\n",
    "import helper\n",
    "import problem_unittests as tests\n",
    "\n",
    "_, (source_vocab_to_int, target_vocab_to_int), (source_int_to_vocab, target_int_to_vocab) = helper.load_preprocess()\n",
    "load_path = helper.load_params()"
   ]
  },
  {
   "cell_type": "markdown",
   "metadata": {},
   "source": [
    "## Sentence to Sequence\n",
    "To feed a sentence into the model for translation, you first need to preprocess it.  Implement the function `sentence_to_seq()` to preprocess new sentences.\n",
    "\n",
    "- Convert the sentence to lowercase\n",
    "- Convert words into ids using `vocab_to_int`\n",
    " - Convert words not in the vocabulary, to the `<UNK>` word id."
   ]
  },
  {
   "cell_type": "code",
   "execution_count": 20,
   "metadata": {},
   "outputs": [
    {
     "name": "stdout",
     "output_type": "stream",
     "text": [
      "Tests Passed\n"
     ]
    }
   ],
   "source": [
    "def sentence_to_seq(sentence, vocab_to_int):\n",
    "    \"\"\"\n",
    "    Convert a sentence to a sequence of ids\n",
    "    :param sentence: String\n",
    "    :param vocab_to_int: Dictionary to go from the words to an id\n",
    "    :return: List of word ids\n",
    "    \"\"\"\n",
    "    # TODO: Implement Function\n",
    "    unk = vocab_to_int['<UNK>']\n",
    "    sentence = sentence.lower()\n",
    "    return [vocab_to_int.get(w, unk) for w in sentence.split()]\n",
    "\n",
    "\n",
    "\"\"\"\n",
    "DON'T MODIFY ANYTHING IN THIS CELL THAT IS BELOW THIS LINE\n",
    "\"\"\"\n",
    "tests.test_sentence_to_seq(sentence_to_seq)"
   ]
  },
  {
   "cell_type": "markdown",
   "metadata": {},
   "source": [
    "## Translate\n",
    "This will translate `translate_sentence` from English to French."
   ]
  },
  {
   "cell_type": "code",
   "execution_count": 37,
   "metadata": {},
   "outputs": [
    {
     "name": "stdout",
     "output_type": "stream",
     "text": [
      "INFO:tensorflow:Restoring parameters from checkpoints/dev\n",
      "Input\n",
      "  Word Ids:      [135, 184, 53, 160, 47, 187, 26]\n",
      "  English Words: ['he', 'saw', 'a', 'old', 'yellow', 'truck', '.']\n",
      "\n",
      "Prediction\n",
      "  Word Ids:      [265, 79, 218, 330, 336, 142, 105, 1]\n",
      "  French Words: il vu un vieux camion jaune . <EOS>\n"
     ]
    }
   ],
   "source": [
    "translate_sentence = 'he saw a old yellow truck .'\n",
    "\n",
    "\n",
    "\"\"\"\n",
    "DON'T MODIFY ANYTHING IN THIS CELL\n",
    "\"\"\"\n",
    "translate_sentence = sentence_to_seq(translate_sentence, source_vocab_to_int)\n",
    "\n",
    "loaded_graph = tf.Graph()\n",
    "with tf.Session(graph=loaded_graph) as sess:\n",
    "    # Load saved model\n",
    "    loader = tf.train.import_meta_graph(load_path + '.meta')\n",
    "    loader.restore(sess, load_path)\n",
    "\n",
    "    input_data = loaded_graph.get_tensor_by_name('input:0')\n",
    "    logits = loaded_graph.get_tensor_by_name('predictions:0')\n",
    "    target_sequence_length = loaded_graph.get_tensor_by_name('target_sequence_length:0')\n",
    "    source_sequence_length = loaded_graph.get_tensor_by_name('source_sequence_length:0')\n",
    "    keep_prob = loaded_graph.get_tensor_by_name('keep_prob:0')\n",
    "\n",
    "    translate_logits = sess.run(logits, {input_data: [translate_sentence]*batch_size,\n",
    "                                         target_sequence_length: [len(translate_sentence)*2]*batch_size,\n",
    "                                         source_sequence_length: [len(translate_sentence)]*batch_size,\n",
    "                                         keep_prob: 1.0})[0]\n",
    "\n",
    "print('Input')\n",
    "print('  Word Ids:      {}'.format([i for i in translate_sentence]))\n",
    "print('  English Words: {}'.format([source_int_to_vocab[i] for i in translate_sentence]))\n",
    "\n",
    "print('\\nPrediction')\n",
    "print('  Word Ids:      {}'.format([i for i in translate_logits]))\n",
    "print('  French Words: {}'.format(\" \".join([target_int_to_vocab[i] for i in translate_logits])))\n"
   ]
  },
  {
   "cell_type": "markdown",
   "metadata": {},
   "source": [
    "## Imperfect Translation\n",
    "You might notice that some sentences translate better than others.  Since the dataset you're using only has a vocabulary of 227 English words of the thousands that you use, you're only going to see good results using these words.  For this project, you don't need a perfect translation. However, if you want to create a better translation model, you'll need better data.\n",
    "\n",
    "You can train on the [WMT10 French-English corpus](http://www.statmt.org/wmt10/training-giga-fren.tar).  This dataset has more vocabulary and richer in topics discussed.  However, this will take you days to train, so make sure you've a GPU and the neural network is performing well on dataset we provided.  Just make sure you play with the WMT10 corpus after you've submitted this project.\n",
    "## Submitting This Project\n",
    "When submitting this project, make sure to run all the cells before saving the notebook. Save the notebook file as \"dlnd_language_translation.ipynb\" and save it as a HTML file under \"File\" -> \"Download as\". Include the \"helper.py\" and \"problem_unittests.py\" files in your submission."
   ]
  },
  {
   "cell_type": "code",
   "execution_count": null,
   "metadata": {
    "collapsed": true
   },
   "outputs": [],
   "source": []
  }
 ],
 "metadata": {
  "anaconda-cloud": {},
  "kernelspec": {
   "display_name": "Python 3",
   "language": "python",
   "name": "python3"
  },
  "language_info": {
   "codemirror_mode": {
    "name": "ipython",
    "version": 3
   },
   "file_extension": ".py",
   "mimetype": "text/x-python",
   "name": "python",
   "nbconvert_exporter": "python",
   "pygments_lexer": "ipython3",
   "version": "3.5.3"
  }
 },
 "nbformat": 4,
 "nbformat_minor": 1
}
